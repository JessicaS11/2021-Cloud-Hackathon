{
 "cells": [
  {
   "cell_type": "markdown",
   "id": "bright-oregon",
   "metadata": {},
   "source": [
    "# 04. Authentication for NASA Earthdata "
   ]
  },
  {
   "cell_type": "markdown",
   "id": "cardiac-franchise",
   "metadata": {
    "jp-MarkdownHeadingCollapsed": true,
    "tags": []
   },
   "source": [
    "## Summary\n",
    "This notebook creates a hidden `.netrc` file (`_netrc` for Window OS) with Earthdata login credentials in your home directory. This file is needed to access NASA Earthdata assets from a scripting environment like Python.\n",
    "\n",
    "### Earthdata Login\n",
    "\n",
    "An Earthdata Login account is required to access data, as well as discover restricted data, from the NASA Earthdata system. Thus, to access NASA data, you need Earthdata Login. Please visit <https://urs.earthdata.nasa.gov> to register and manage your Earthdata Login account. This account is free to create and only takes a moment to set up.\n",
    "\n",
    "### Authentication via netrc File\n",
    "\n",
    "You will need a netrc file containing your NASA Earthdata Login credentials in order to execute the notebooks. A netrc file can be created manually within text editor and saved to your home directory. An example of the required content is below.\n",
    "\n",
    "```text\n",
    "machine urs.earthdata.nasa.gov\n",
    "login <USERNAME>\n",
    "password <PASSWORD>\n",
    "```\n",
    "\n",
    "`<USERNAME>` and `<PASSWORD>` would be replaced by your actual Earthdata Login username and password respectively."
   ]
  },
  {
   "cell_type": "markdown",
   "id": "numerical-wilderness",
   "metadata": {},
   "source": [
    "## Import Required Packages"
   ]
  },
  {
   "cell_type": "code",
   "execution_count": 10,
   "id": "induced-shell",
   "metadata": {},
   "outputs": [],
   "source": [
    "from netrc import netrc\n",
    "from subprocess import Popen\n",
    "from platform import system\n",
    "from getpass import getpass\n",
    "import os"
   ]
  },
  {
   "cell_type": "markdown",
   "id": "dominican-carry",
   "metadata": {},
   "source": [
    "The code below will:\n",
    "\n",
    "1. check what operating system (OS) is being used to determine which netrc file to check for/create (.netrc or _netrc)\n",
    "2. check if you have an netrc file, and if so, varify if those credentials are for the Earthdata endpoint\n",
    "3. create a netrc file if a netrc file is not present."
   ]
  },
  {
   "cell_type": "code",
   "execution_count": null,
   "id": "signal-slide",
   "metadata": {},
   "outputs": [
    {
     "name": "stdin",
     "output_type": "stream",
     "text": [
      "Enter NASA Earthdata Login Username:  ·······\n"
     ]
    }
   ],
   "source": [
    "urs = 'urs.earthdata.nasa.gov'    # Earthdata URL endpoint for authentication\n",
    "prompts = ['Enter NASA Earthdata Login Username: ',\n",
    "           'Enter NASA Earthdata Login Password: ']\n",
    "\n",
    "# Determine the OS (Windows machines usually use an '_netrc' file)\n",
    "netrc_name = \"_netrc\" if system()==\"Windows\" else \".netrc\"\n",
    "\n",
    "# Determine if netrc file exists, and if so, if it includes NASA Earthdata Login Credentials\n",
    "try:\n",
    "    netrcDir = os.path.expanduser(f\"~/{netrc_name}\")\n",
    "    netrc(netrcDir).authenticators(urs)[0]\n",
    "\n",
    "# Below, create a netrc file and prompt user for NASA Earthdata Login Username and Password\n",
    "except FileNotFoundError:\n",
    "    homeDir = os.path.expanduser(\"~\")\n",
    "    Popen('touch {0}{2} | echo machine {1} >> {0}{2}'.format(homeDir + os.sep, urs, netrc_name), shell=True)\n",
    "    Popen('echo login {} >> {}{}'.format(getpass(prompt=prompts[0]), homeDir + os.sep, netrc_name), shell=True)\n",
    "    Popen('echo password \\{} >> {}{}'.format(getpass(prompt=prompts[1]), homeDir + os.sep, netrc_name), shell=True)\n",
    "    # Set restrictive permissions\n",
    "    Popen('chmod 0600 {0}{1}'.format(homeDir + os.sep, netrc_name), shell=True)\n",
    "\n",
    "    # Determine OS and edit netrc file if it exists but is not set up for NASA Earthdata Login\n",
    "except TypeError:\n",
    "    homeDir = os.path.expanduser(\"~\")\n",
    "    Popen('echo machine {1} >> {0}{2}'.format(homeDir + os.sep, urs, netrc_name), shell=True)\n",
    "    Popen('echo login {} >> {}{}'.format(getpass(prompt=prompts[0]), homeDir + os.sep, netrc_name), shell=True)\n",
    "    Popen('echo password \\{} >> {}{}'.format(getpass(prompt=prompts[1]), homeDir + os.sep, netrc_name), shell=True)"
   ]
  },
  {
   "cell_type": "markdown",
   "id": "white-democracy",
   "metadata": {},
   "source": [
    "#### See if the file was created"
   ]
  },
  {
   "cell_type": "markdown",
   "id": "modern-italic",
   "metadata": {},
   "source": [
    "If the file was created, we'll see a `.netrc` file (`_netrc` for Window OS) in the list printed below. To view the contents from a Jupyter environment, click **File** on the top toolbar, select **Open from Path...**, type **.netrc**, and click **Open**. The `.netrc` file will open within the text editor. \n",
    "\n",
    "> **!!! Beware,** your password will be visible if the `.netrc` file is opened in the text editor."
   ]
  },
  {
   "cell_type": "code",
   "execution_count": 9,
   "id": "adjusted-render",
   "metadata": {},
   "outputs": [
    {
     "name": "stdout",
     "output_type": "stream",
     "text": [
      "total 928\n",
      "drwxr-xr-x 14 jovyan jovyan   6144 Nov  4 19:11 .\n",
      "drwxr-xr-x  1 root   root     4096 Oct  4 16:21 ..\n",
      "-rw-------  1 jovyan jovyan   7738 Nov  4 17:43 .bash_history\n",
      "drwxr-xr-x  8 jovyan jovyan   6144 Nov  2 17:49 .cache\n",
      "drwxrwsr-x  2 jovyan jovyan   6144 Jun 11 16:31 .conda\n",
      "drwxr-xr-x  4 jovyan jovyan   6144 Nov  2 17:37 .config\n",
      "drwxr-xr-x  2 jovyan jovyan   6144 Jun 11 16:31 .empty\n",
      "-rw-r--r--  1 jovyan jovyan     52 Oct 19 20:19 .gitconfig\n",
      "drwxr-xr-x  2 jovyan jovyan   6144 Nov  3 12:58 .ipynb_checkpoints\n",
      "drwxr-xr-x  5 jovyan jovyan   6144 May 13 19:04 .ipython\n",
      "drwxr-xr-x  3 jovyan jovyan   6144 Jun 11 13:09 .jupyter\n",
      "-rw-r--r--  1 jovyan jovyan    183 Oct 28 21:32 .jupyter-server-log.txt\n",
      "drwxr-xr-x  3 jovyan jovyan   6144 May 13 19:04 .local\n",
      "-rw-------  1 jovyan jovyan     67 Nov  4 19:11 .netrc\n",
      "drwxr-xr-x 10 jovyan jovyan   6144 Nov  4 17:29 2021-Cloud-Hackathon\n",
      "-rw-r--r--  1 jovyan jovyan    119 Nov  3 18:07 additional_packages.txt\n",
      "-rw-r--r--  1 jovyan jovyan    131 Nov  4 15:55 cookies.txt\n",
      "drwxr-xr-x  5 jovyan jovyan   6144 Nov  4 15:03 corn\n",
      "-rw-r--r--  1 jovyan jovyan  11709 Nov  4 14:48 environment.yml\n",
      "-rw-r--r--  1 jovyan jovyan 847997 Nov  3 13:35 s6a_atrack_altimetry_demo.ipynb\n",
      "drwxr-xr-x  2 root   root     6144 May 11 19:41 shared\n",
      "drwxr-xr-x  2 root   root     6144 May 11 19:41 shared-readwrite\n"
     ]
    }
   ],
   "source": [
    "!ls -al ~/"
   ]
  },
  {
   "cell_type": "code",
   "execution_count": null,
   "id": "93dee735-3c64-426e-b130-dc4706491842",
   "metadata": {},
   "outputs": [],
   "source": []
  }
 ],
 "metadata": {
  "kernelspec": {
   "display_name": "Python 3 (ipykernel)",
   "language": "python",
   "name": "python3"
  },
  "language_info": {
   "codemirror_mode": {
    "name": "ipython",
    "version": 3
   },
   "file_extension": ".py",
   "mimetype": "text/x-python",
   "name": "python",
   "nbconvert_exporter": "python",
   "pygments_lexer": "ipython3",
   "version": "3.9.7"
  }
 },
 "nbformat": 4,
 "nbformat_minor": 5
}
